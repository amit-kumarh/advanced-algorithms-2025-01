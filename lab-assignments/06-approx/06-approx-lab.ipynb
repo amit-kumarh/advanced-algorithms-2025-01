{
 "cells": [
  {
   "cell_type": "markdown",
   "metadata": {},
   "source": [
    "# Approx Lab\n",
    "\n",
    "The goal of this lab is to gain experience using approximation algorithms.\n",
    "\n",
    "For the purpose of this assignment, you will be implementing the knapsack problem. Before continuing, the following cell contains any dependencies you may need for this assignment."
   ]
  },
  {
   "cell_type": "code",
   "execution_count": 1,
   "metadata": {},
   "outputs": [],
   "source": [
    "import pandas as pd"
   ]
  },
  {
   "cell_type": "markdown",
   "metadata": {},
   "source": [
    "## Background Info\n",
    "\n",
    "### Knapsack Problem\n",
    "We are actually going to be looking at a specific (hopefully fun) implementation of the knapsack problem.\n",
    "\n",
    "The traditional knapsack problem asks you to pack a set of items, with given weights and values into a \"knapsack\" with a maximum capacity. You cannot pack more items than the capacity of the knapsack. The goal is to select a subset of items that maximize the total value with what can fit in the knapsack. The name \"knapsack\" comes from the similarity to a hiker trying to pack a bag without going over a certain weight.\n",
    "\n",
    "The knapsack problem is an NP-Hard optimization problem, which is why it is one of the classic approximation algorithms.\n",
    "\n",
    "### Specifications for this Lab\n",
    "The variation that we will be doing in this assignment is referred to as an 0/1 knapsack problem, meaning that items must be completely put in the knapsack or they must be left behind (you can't have a fractional portion of an item). We will be representing this as a simple fantasy sports league - specifically Formula 1 drivers. \n",
    "\n",
    "You are provided with a list of F1 drivers and constructors with given costs and points as well as a budget of $100M. You will be selecting five drivers and two constructors (teams). \n",
    "\n",
    "### Scoring Information\n",
    "Points are gained from qualification results for drivers and constructors as well as race results for drivers and constructors. \n",
    "\n",
    "<!-- Qualifications\n",
    "- Drivers score based on their resulting position \n",
    "- Constructor score the combined total of their two drivers in qualifying plus a modifier based on how far both their drivers get. -->\n",
    "<!-- \n",
    "| Drivers    | Points |\n",
    "| -------- | ------- |\n",
    "| Pole Position (1st Place) | 10 |\n",
    "| 2nd Place | 9 |\n",
    "| 3rd Place | 8 |\n",
    "| 4th Place | 7 |\n",
    "| 5th Place | 6 |\n",
    "| 6th Place | 5 |\n",
    "| 7th Place | 4 |\n",
    "| 8th Place | 3 |\n",
    "| 9th Place | 2 |\n",
    "| 10th Place | 1 |\n",
    "| 11th-20th Place | 0 |\n",
    "| No Time Set | 0 |\n",
    "| Disqualification | 0 | -->\n",
    "\n",
    "\n",
    "<!-- | Constructors | Points |\n",
    "| ----------- | ------- |\n",
    "| Neither Driver Reaches Q2 | -1 |\n",
    "| One Driver Reaches Q2 | 1 |\n",
    "| Both Drivers Reach Q2 | 5 |\n",
    "| Both Drivers Reach Q3 | 10 | -->\n",
    "\n",
    "\n",
    "<!-- Race\n",
    "- Drivers score based on their resulting position, position difference from starting order, and some additional bonuses\n",
    "- Constructors score a combined total of their two drivers' results (excluding the Driver of the Day bonus) ~~plus a modifier based on pitstop times~~ -->\n",
    "\n",
    "<!-- | Drivers | Points |\n",
    "| -------- | ------- |\n",
    "| Positions Gained | 1/position |\n",
    "| Positions Lost | -1/position |\n",
    "| Overtakes Made | 1/overtake |\n",
    "| Fastest Lap | 10 |\n",
    "| Driver of the Day | 10 | -->\n",
    "\n",
    "<!-- | Race Result | Points |\n",
    "| -------- | ------- |\n",
    "| 1st Place | 25 |\n",
    "| 2nd Place | 18 |\n",
    "| 3rd Place | 15 |\n",
    "| 4th Place | 12 |\n",
    "| 5th Place | 10 |\n",
    "| 6th Place | 8 |\n",
    "| 7th Place | 6 |\n",
    "| 8th Place | 4 |\n",
    "| 9th Place | 2 |\n",
    "| 10th Place | 1 |\n",
    "| 11th-20th Place | 0 |\n",
    "| DNF | -20 |\n",
    "| Disqualification | -20 | -->\n",
    "\n",
    "Fortunately for you, we have access to the current point standings post-2025 China GP for drivers & constructors, which are available in `drivers.csv` & `constructors.csv`.\n",
    "\n",
    "*Note: The costs are in millions, so 30 is actually 30 M.\n",
    "\n",
    "### Questions (Answered in Various Parts of the Lab): \n",
    "1. What is the general setup of the problem?\n",
    "2. Determining the mathematical functions of the problem\n",
    "3. Implementing a greedy algorithm\n"
   ]
  },
  {
   "cell_type": "markdown",
   "metadata": {},
   "source": [
    "## A. Assessing the Problem"
   ]
  },
  {
   "cell_type": "markdown",
   "metadata": {},
   "source": [
    "The values that are provided for this lab are from the points distribution PRIOR to the Japan Grand Prix (which means we can actually compare with the race results at the submission deadline!)"
   ]
  },
  {
   "cell_type": "markdown",
   "metadata": {},
   "source": [
    "Create a fantasy team https://fantasy.formula1.com/en/create-team for the upcoming Grand Prix to get a better idea of what drivers, constructors, points, and the budget are. Who is on your team & how much did you spend? Don't spend too much time on this, it really is just to get familiar with the format.\n",
    "\n",
    "Mclaren, Mercedes, Piastri, Hadjar, Ocon, Bearman\n",
    "\n",
    "What represents the \"items\" in the knapsack? \n",
    "\n",
    "The drivers\n",
    "\n",
    "What represents the weights?\n",
    "\n",
    "The cost\n",
    "\n",
    "What represents the values?\n",
    "\n",
    "The points"
   ]
  },
  {
   "cell_type": "code",
   "execution_count": 2,
   "metadata": {},
   "outputs": [
    {
     "name": "stdout",
     "output_type": "stream",
     "text": [
      "                  Driver  Points  Cost\n",
      "0           Lando Norris     100  29.6\n",
      "1  Andrea Kimi Antonelli      61  19.3\n",
      "2         George Russell      60  21.4\n",
      "3         Max Verstappen      59  28.6\n",
      "4          Oscar Piastri      55  23.0\n",
      "       Constructor  Points  Cost\n",
      "0          McLaren     172  30.6\n",
      "1         Mercedes     136  23.3\n",
      "2  Red Bull Racing      86  25.4\n",
      "3             Haas      61   8.2\n",
      "4         Williams      36  13.5\n"
     ]
    }
   ],
   "source": [
    "# Load the data from the CSV files into a format that you are comfortable working with\n",
    "# This can be arrays, dictionaries, or pd DataFrames\n",
    "\n",
    "# Print/Display your data as well to confirm that you have successfully saved it.\n",
    "constructors = pd.read_csv(\"constructors.csv\")\n",
    "drivers = pd.read_csv(\"drivers.csv\")\n",
    "print(drivers.head())\n",
    "print(constructors.head())"
   ]
  },
  {
   "cell_type": "markdown",
   "metadata": {},
   "source": [
    "# B. Integer Program\n",
    "\n",
    "Before implementing our approx algorithm, we need to first consider the integer program. \n",
    "\n",
    "Given the following variables, create an integer program that maximizes the total points of drivers while remaining under the budget: \n",
    "- $x_i$ is the decision variable that determines whether driver $i$ is included in the team or not\n",
    "- $p_i$ is the # of points that driver $i$ is worth\n",
    "- $c_i$ is the cost of driver $i$\n",
    "\n",
    "For now, we will focus on just the drivers and ignore the constructors. We will also temporarily reduce our budget to **$50M**\n",
    "\n",
    "While we are not planning on implementing the full integer program, it helps us quantify parts of the problem"
   ]
  },
  {
   "cell_type": "markdown",
   "metadata": {},
   "source": [
    "\n",
    "$\\text{maximize} \\quad \\sum_{i}^{I} x_i p_i$  \\\n",
    "$\\text{subject to} \\quad \\sum_{i}^{I} x_i c_i \\leq \\text{50M}, \\sum_{i}^{I} x_i  \\leq 5, x_i \\in {1,0}$ \n"
   ]
  },
  {
   "cell_type": "markdown",
   "metadata": {},
   "source": [
    "## Decision Variable & Constraints\n",
    "\n",
    "We can make helper functions for our future algorithm based on constraints that we derive when forming the IP: \n",
    "1. Which drivers should be included in our solution? \n",
    "2. What is our maximum cost?\n",
    "3. What is our maximum # of drivers? "
   ]
  },
  {
   "cell_type": "code",
   "execution_count": 3,
   "metadata": {},
   "outputs": [],
   "source": [
    "BUDGET = 50 # in millions\n",
    "max_drivers = 5\n",
    "\n",
    "# Replace with your code"
   ]
  },
  {
   "cell_type": "markdown",
   "metadata": {},
   "source": [
    "# C. Greedy Algorithm\n"
   ]
  },
  {
   "cell_type": "markdown",
   "metadata": {},
   "source": [
    "There are multiple ways we can go about solving the knapsack problem. For this lab, we will be focusing on a greedy algorithm and a variant of that.\n",
    "\n",
    "Let's start with a basic greedy algorithm:\n",
    "1. Calculate the value-to-cost ratio for each driver \n",
    "2. Sort drivers in non-increasing order of value-to-cost\n",
    "2. Greedily select drivers from list until either budget or max drivers constraint is hit\n",
    "\n",
    "Use the helper methods from the previous part in your implementation."
   ]
  },
  {
   "cell_type": "code",
   "execution_count": 8,
   "metadata": {},
   "outputs": [
    {
     "data": {
      "text/plain": [
       "{'Esteban Ocon', 'Lance Stroll', 'Lando Norris'}"
      ]
     },
     "execution_count": 8,
     "metadata": {},
     "output_type": "execute_result"
    }
   ],
   "source": [
    "def value_to_cost(items): \n",
    "    # Replace with your code\n",
    "    items['v2c'] = items[\"Points\"] / items[\"Cost\"]\n",
    "    return items\n",
    "        \n",
    "\n",
    "def sort_items(items):\n",
    "    items = value_to_cost(items)\n",
    "    return items.sort_values(by='v2c', ascending=False)\n",
    "\n",
    "def greedy_driver_select(drivers):\n",
    "    options = sort_items(drivers)\n",
    "    team = set()\n",
    "    rem_budget = BUDGET\n",
    "    rem_drivers = 5\n",
    "    while rem_budget > 0 and rem_drivers > 0:\n",
    "        options = options[options[\"Cost\"] < rem_budget]\n",
    "        if len(options) == 0:\n",
    "            break\n",
    "        to_add = options.iloc[0]\n",
    "\n",
    "        team.add(to_add[\"Driver\"])\n",
    "        rem_budget -= to_add[\"Cost\"]\n",
    "        rem_drivers -= 1\n",
    "        options = options[options[\"Driver\"] != to_add[\"Driver\"]]\n",
    "    return team\n",
    "\n",
    "greedy_driver_select(drivers)\n"
   ]
  },
  {
   "cell_type": "markdown",
   "metadata": {},
   "source": [
    "Try running your basic greedy algorithm. \n",
    "\n",
    "You may notice a few flaws:\n",
    "1. The greedy algorithm is only looking at value-to-cost ratio, which may miss out on an overall improvement in value that still fits within the budget\n",
    "2. Depending on your implementation, you may not currently be meeting the \"5 total drivers\" constraint - this is fine"
   ]
  },
  {
   "cell_type": "markdown",
   "metadata": {},
   "source": [
    "\n",
    "## Redux Greedy Algorithm\n",
    "We are going to next implement a small adjustment to this algorithm in order to improve its performance. \\\n",
    "This is a 2-approximation for the knapsack problem. \n",
    "\n",
    "1. Calculate the value-to-cost ratio for each driver\n",
    "2. Sort drivers in non-increasing order of value-to-cost\n",
    "3. Greedily add items until we hit an item that is too big\n",
    "4. Compare the too big item against the already existing list of items & pick the better of the two\n",
    "\n",
    "It might help to make a separate function to handle #4. "
   ]
  },
  {
   "cell_type": "code",
   "execution_count": null,
   "metadata": {},
   "outputs": [
    {
     "data": {
      "text/plain": [
       "[{'Driver': 'Esteban Ocon',\n",
       "  'Points': 32,\n",
       "  'Cost': 8.1,\n",
       "  'v2c': 3.9506172839506175},\n",
       " {'Driver': 'Lance Stroll',\n",
       "  'Points': 33,\n",
       "  'Cost': 9.3,\n",
       "  'v2c': 3.548387096774193},\n",
       " {'Driver': 'Lando Norris',\n",
       "  'Points': 100,\n",
       "  'Cost': 29.6,\n",
       "  'v2c': 3.378378378378378}]"
      ]
     },
     "execution_count": 18,
     "metadata": {},
     "output_type": "execute_result"
    }
   ],
   "source": [
    "def redux_greedy_driver_select(drivers):\n",
    "    options = sort_items(drivers)\n",
    "    team = list()\n",
    "    rem_budget = BUDGET\n",
    "    rem_drivers = 5\n",
    "    while rem_budget > 0 and rem_drivers > 0:\n",
    "        if len(options) == 0:\n",
    "            break\n",
    "        to_add = options.iloc[0]\n",
    "\n",
    "        if options.iloc[0][\"Cost\"] < rem_budget:\n",
    "            team.append(to_add.to_dict())\n",
    "            rem_budget -= to_add[\"Cost\"]\n",
    "            rem_drivers -= 1\n",
    "            options = options[options[\"Driver\"] != to_add[\"Driver\"]]\n",
    "        else:\n",
    "            break\n",
    "    \n",
    "    if to_add[\"Points\"] > sum(x[\"Points\"] for x in team):\n",
    "        return [to_add]\n",
    "    return team\n",
    "    \n",
    "redux_greedy_driver_select(drivers)\n"
   ]
  },
  {
   "cell_type": "markdown",
   "metadata": {},
   "source": [
    "# D. Reintroducing Constructors\n",
    "\n",
    "We've been neglecting our constructors so far and cutting our budget. Let's make them feel included in our processes again. \n",
    "\n",
    "## Integer Program\n",
    "\n",
    "We should start by redefining our original IP to see what constraints we need to add. \\\n",
    "We've added some more variables to our IP: \n",
    "- $x_j$ is the decision variable that determines whether constructor $j$ is included in the team or not \n",
    "- $p_j$ is the # of points that constructor $j$ is worth\n",
    "- $c_j$ is the cost of constructor $j$\n",
    "\n",
    "Our budget has also been increased back to **100M**. "
   ]
  },
  {
   "cell_type": "markdown",
   "metadata": {},
   "source": [
    "$\\text{maximize} \\quad \\sum_{i}^{I} x_i p_i$  + \\sum_{j}^{J} x_j p_j$\\\n",
    "$\\text{subject to} \\quad \\sum_{i}^{I} x_i  \\leq 5, \\sum_{j}^{J} x_j  \\leq 2, x_i \\in {1,0}, x_j \\in {1,0}$\n",
    "\n",
    "\n",
    "$\\quad \\sum_{i}^{I} x_i c_i + \\sum_{j}^{J} x_j c_j \\leq \\text{100M}$ "
   ]
  },
  {
   "cell_type": "markdown",
   "metadata": {},
   "source": [
    "## Constraints \n",
    "\n",
    "To redefine our greedy algorithm to include constructors, we have to also write helpers that correspond to our new constraints."
   ]
  },
  {
   "cell_type": "code",
   "execution_count": 19,
   "metadata": {},
   "outputs": [],
   "source": [
    "BUDGET = 100 # in millions\n",
    "\n",
    "# Replace with your code"
   ]
  },
  {
   "cell_type": "markdown",
   "metadata": {},
   "source": [
    "## Greedy Algorithm\n",
    "\n",
    "Update the greedy algorithm to calculate for buying both constructors and drivers. \\\n",
    "Remember, your list of non-increasing value-to-cost ratios should be a combination of both drivers & constructors. "
   ]
  },
  {
   "cell_type": "code",
   "execution_count": 44,
   "metadata": {},
   "outputs": [
    {
     "data": {
      "text/plain": [
       "[{'Name': 'Haas',\n",
       "  'Points': 61,\n",
       "  'Cost': 8.2,\n",
       "  'v2c': 7.439024390243903,\n",
       "  'type': 'const'},\n",
       " {'Name': 'Mercedes',\n",
       "  'Points': 136,\n",
       "  'Cost': 23.3,\n",
       "  'v2c': 5.836909871244635,\n",
       "  'type': 'const'},\n",
       " {'Name': 'Esteban Ocon',\n",
       "  'Points': 32,\n",
       "  'Cost': 8.1,\n",
       "  'v2c': 3.9506172839506175,\n",
       "  'type': 'driver'},\n",
       " {'Name': 'Lance Stroll',\n",
       "  'Points': 33,\n",
       "  'Cost': 9.3,\n",
       "  'v2c': 3.548387096774193,\n",
       "  'type': 'driver'},\n",
       " {'Name': 'Lando Norris',\n",
       "  'Points': 100,\n",
       "  'Cost': 29.6,\n",
       "  'v2c': 3.378378378378378,\n",
       "  'type': 'driver'},\n",
       " {'Name': 'Oliver Bearman',\n",
       "  'Points': 22,\n",
       "  'Cost': 6.7,\n",
       "  'v2c': 3.2835820895522385,\n",
       "  'type': 'driver'}]"
      ]
     },
     "execution_count": 44,
     "metadata": {},
     "output_type": "execute_result"
    }
   ],
   "source": [
    "def greedy_f1(drivers, constructors):\n",
    "    driver_opt = sort_items(drivers)\n",
    "    driver_opt[\"type\"] = \"driver\"\n",
    "    driver_opt.rename(columns={\"Driver\": \"Name\"}, inplace=True)\n",
    "    const_opt = sort_items(constructors)\n",
    "    const_opt[\"type\"] = \"const\"\n",
    "    const_opt.rename(columns={\"Constructor\": \"Name\"}, inplace=True)\n",
    "    options = pd.concat([driver_opt, const_opt])\n",
    "    options = sort_items(options)\n",
    "\n",
    "    team = list()\n",
    "    rem_budget = BUDGET\n",
    "    rem_drivers = 5\n",
    "    rem_const = 2\n",
    "\n",
    "    while rem_budget > 0 and (rem_drivers > 0 or rem_const > 0):\n",
    "        if len(options) == 0:\n",
    "            break\n",
    "        to_add = options.iloc[0]\n",
    "\n",
    "        if to_add[\"Cost\"] < rem_budget:\n",
    "            if to_add[\"type\"] == \"driver\" and rem_drivers > 0:\n",
    "                team.append(to_add.to_dict())\n",
    "                rem_budget -= to_add[\"Cost\"]\n",
    "                rem_drivers -= 1\n",
    "            elif rem_const > 0:\n",
    "                team.append(to_add.to_dict())\n",
    "                rem_budget -= to_add[\"Cost\"]\n",
    "                rem_const -= 1\n",
    "                \n",
    "            options = options[options[\"Name\"] != to_add[\"Name\"]]\n",
    "        else:\n",
    "            break\n",
    "    \n",
    "    if to_add[\"Points\"] > sum(x[\"Points\"] for x in team):\n",
    "        return [to_add]\n",
    "    return team\n",
    "    \n",
    "    return team\n",
    "\n",
    "greedy_f1(drivers, constructors)"
   ]
  }
 ],
 "metadata": {
  "kernelspec": {
   "display_name": "advalgo",
   "language": "python",
   "name": "python3"
  },
  "language_info": {
   "codemirror_mode": {
    "name": "ipython",
    "version": 3
   },
   "file_extension": ".py",
   "mimetype": "text/x-python",
   "name": "python",
   "nbconvert_exporter": "python",
   "pygments_lexer": "ipython3",
   "version": "3.12.8"
  }
 },
 "nbformat": 4,
 "nbformat_minor": 2
}
